{
 "cells": [
  {
   "cell_type": "code",
   "execution_count": 1,
   "id": "51d0343d",
   "metadata": {},
   "outputs": [],
   "source": [
    "from pinecone import Pinecone"
   ]
  },
  {
   "cell_type": "code",
   "execution_count": 2,
   "id": "5e8bff03",
   "metadata": {},
   "outputs": [],
   "source": [
    "connect = Pinecone(api_key=\"Enter-your-api-key\")"
   ]
  },
  {
   "cell_type": "raw",
   "id": "129e416b",
   "metadata": {},
   "source": [
    "from pinecone import PodSpec\n",
    "connect.create_index(\n",
    "    name = \"first-index\",\n",
    "    dimension=8, \n",
    "    metric=\"cosine\",\n",
    "    spec = PodSpec(\n",
    "        environment= \"gcp-starter\"\n",
    "    )\n",
    ")"
   ]
  },
  {
   "cell_type": "code",
   "execution_count": 6,
   "id": "b878d404",
   "metadata": {},
   "outputs": [],
   "source": [
    "index = connect.Index(\"first-index\")"
   ]
  },
  {
   "cell_type": "code",
   "execution_count": 7,
   "id": "f0356bb6",
   "metadata": {},
   "outputs": [
    {
     "data": {
      "text/plain": [
       "{'dimension': 8,\n",
       " 'index_fullness': 0.0,\n",
       " 'namespaces': {},\n",
       " 'total_vector_count': 0}"
      ]
     },
     "execution_count": 7,
     "metadata": {},
     "output_type": "execute_result"
    }
   ],
   "source": [
    "index.describe_index_stats()"
   ]
  },
  {
   "cell_type": "code",
   "execution_count": 10,
   "id": "dee89639",
   "metadata": {},
   "outputs": [
    {
     "data": {
      "text/plain": [
       "{'upserted_count': 4}"
      ]
     },
     "execution_count": 10,
     "metadata": {},
     "output_type": "execute_result"
    }
   ],
   "source": [
    "index.upsert(\n",
    "    vectors=[\n",
    "        {'id':'vect1', 'values': [1.0,2.0,3.0,4.0,5.0,6.0,7.0,8.0]},\n",
    "        {'id':'vect2', 'values': [1.0,21.0,3.0,4.0,5.0,6.0,7.0,8.0]},\n",
    "        {'id':'vect3', 'values': [1.0,23.0,3.0,4.0,5.0,6.0,7.0,8.0]},\n",
    "        {'id':'vect4', 'values': [1.0,24.0,3.0,4.0,5.0,6.0,7.0,8.0]}\n",
    "    ],\n",
    "    namespace='ns1'\n",
    ")"
   ]
  },
  {
   "cell_type": "code",
   "execution_count": 11,
   "id": "a23dffcc",
   "metadata": {},
   "outputs": [
    {
     "data": {
      "text/plain": [
       "{'dimension': 8,\n",
       " 'index_fullness': 4e-05,\n",
       " 'namespaces': {'ns1': {'vector_count': 4}},\n",
       " 'total_vector_count': 4}"
      ]
     },
     "execution_count": 11,
     "metadata": {},
     "output_type": "execute_result"
    }
   ],
   "source": [
    "index.describe_index_stats()"
   ]
  },
  {
   "cell_type": "code",
   "execution_count": 12,
   "id": "e1818b87",
   "metadata": {},
   "outputs": [
    {
     "data": {
      "text/plain": [
       "{'matches': [{'id': 'vect3',\n",
       "              'score': 0.995569229,\n",
       "              'values': [1.0, 23.0, 3.0, 4.0, 5.0, 6.0, 7.0, 8.0]},\n",
       "             {'id': 'vect4',\n",
       "              'score': 0.993655264,\n",
       "              'values': [1.0, 24.0, 3.0, 4.0, 5.0, 6.0, 7.0, 8.0]}],\n",
       " 'namespace': 'ns1',\n",
       " 'usage': {'read_units': 6}}"
      ]
     },
     "execution_count": 12,
     "metadata": {},
     "output_type": "execute_result"
    }
   ],
   "source": [
    "index.query(\n",
    "    namespace='ns1',\n",
    "    vector=[1.0, 23.0, 4.0, 3.9, 2.9, 5.8, 9.0, 7.0],\n",
    "    top_k=2,\n",
    "    include_values=True\n",
    ")"
   ]
  },
  {
   "cell_type": "code",
   "execution_count": null,
   "id": "b7909b9c",
   "metadata": {},
   "outputs": [],
   "source": []
  }
 ],
 "metadata": {
  "kernelspec": {
   "display_name": "Python 3 (ipykernel)",
   "language": "python",
   "name": "python3"
  },
  "language_info": {
   "codemirror_mode": {
    "name": "ipython",
    "version": 3
   },
   "file_extension": ".py",
   "mimetype": "text/x-python",
   "name": "python",
   "nbconvert_exporter": "python",
   "pygments_lexer": "ipython3",
   "version": "3.11.3"
  }
 },
 "nbformat": 4,
 "nbformat_minor": 5
}
